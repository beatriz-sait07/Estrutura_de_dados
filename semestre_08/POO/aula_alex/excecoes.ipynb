{
 "cells": [
  {
   "cell_type": "code",
   "execution_count": null,
   "metadata": {},
   "outputs": [],
   "source": [
    "try: \n",
    "    while True print('Hello world')\n",
    "except SyntaxError:\n",
    "    print('Funcaonao declarada!')"
   ]
  },
  {
   "cell_type": "code",
   "execution_count": 42,
   "metadata": {},
   "outputs": [],
   "source": [
    "while True:\n",
    "    try:\n",
    "        x = int(input(\"Que tamanho de sapato voce calca: \"))\n",
    "        break\n",
    "    except ValueError:\n",
    "        print(\"Erro, digito invalido!!\")\n",
    "\n"
   ]
  },
  {
   "cell_type": "code",
   "execution_count": 11,
   "metadata": {},
   "outputs": [
    {
     "name": "stdout",
     "output_type": "stream",
     "text": [
      "Numero divizivel por\n",
      "24.03456656764785\n"
     ]
    }
   ],
   "source": [
    "import math\n",
    "\n",
    "while True:\n",
    "    try:\n",
    "        peso = float(input('Qual seu peso: '))\n",
    "        altura = float(input('Qual sua altura(em metros): '))\n",
    "        print(peso/math.pow(altura,2))\n",
    "        break\n",
    "    except ZeroDivisionError:\n",
    "        print('Numero divizivel por')\n"
   ]
  },
  {
   "cell_type": "code",
   "execution_count": 19,
   "metadata": {},
   "outputs": [
    {
     "name": "stdout",
     "output_type": "stream",
     "text": [
      "Variavel nao encontrada\n"
     ]
    }
   ],
   "source": [
    "def Parlamento_error():\n",
    "    try:\n",
    "        var = \"parlamento\"\n",
    "        return Parlamentar\n",
    "    except NameError:\n",
    "        return 'Variavel nao encontrada'\n",
    "\n",
    "print(Parlamento_error())"
   ]
  },
  {
   "cell_type": "code",
   "execution_count": 30,
   "metadata": {},
   "outputs": [],
   "source": [
    "while True:\n",
    "    try:\n",
    "        x = input('primeira entrada: ')\n",
    "        y = input('segunda entrada: ')\n",
    "\n",
    "        if not x.isdigit() or not y.isdigit():\n",
    "            raise TypeError('tipo de entrada invalida, tente apenas digitos!')\n",
    "        break\n",
    "    except TypeError:\n",
    "        print('Digite novamente:')"
   ]
  },
  {
   "cell_type": "code",
   "execution_count": 39,
   "metadata": {},
   "outputs": [
    {
     "name": "stdout",
     "output_type": "stream",
     "text": [
      "imprimir o nome:\n",
      "bia \n"
     ]
    }
   ],
   "source": [
    "print('imprimir o nome:')\n",
    "\n",
    "l = ['b', 'i', 'a']\n",
    "\n",
    "try:\n",
    "    for i in range(4, 0):\n",
    "        print(l[i], end='')\n",
    "except IndexError:\n",
    "    print(' ')"
   ]
  },
  {
   "cell_type": "code",
   "execution_count": 41,
   "metadata": {},
   "outputs": [
    {
     "name": "stdout",
     "output_type": "stream",
     "text": [
      "arquivo nao encontrado\n"
     ]
    }
   ],
   "source": [
    "import pandas as pd\n",
    "\n",
    "try:\n",
    "    df = pd.read_csv('file.csv')\n",
    "except FileNotFoundError:\n",
    "    print('arquivo nao encontrado')"
   ]
  },
  {
   "cell_type": "code",
   "execution_count": null,
   "metadata": {},
   "outputs": [],
   "source": []
  }
 ],
 "metadata": {
  "kernelspec": {
   "display_name": "base",
   "language": "python",
   "name": "python3"
  },
  "language_info": {
   "codemirror_mode": {
    "name": "ipython",
    "version": 3
   },
   "file_extension": ".py",
   "mimetype": "text/x-python",
   "name": "python",
   "nbconvert_exporter": "python",
   "pygments_lexer": "ipython3",
   "version": "3.9.13"
  }
 },
 "nbformat": 4,
 "nbformat_minor": 2
}
